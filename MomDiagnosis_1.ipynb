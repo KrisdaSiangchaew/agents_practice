{
 "cells": [
  {
   "cell_type": "code",
   "execution_count": 3,
   "id": "102f81fd",
   "metadata": {},
   "outputs": [],
   "source": [
    "import os\n",
    "from dotenv import load_dotenv\n",
    "from openai import OpenAI\n",
    "from pypdf import PdfReader"
   ]
  },
  {
   "cell_type": "code",
   "execution_count": null,
   "id": "c517b628",
   "metadata": {},
   "outputs": [],
   "source": [
    "# read in medical records in json format"
   ]
  },
  {
   "cell_type": "code",
   "execution_count": null,
   "id": "a1a747ce",
   "metadata": {},
   "outputs": [],
   "source": [
    "reader = PdfReader(\"mom/diagnosis.pdf\")\n",
    "record_text = \"\"\n",
    "for page in reader.pages:\n",
    "    record_text += page.extract_text()\n",
    "\n",
    "print(record_text)"
   ]
  },
  {
   "cell_type": "code",
   "execution_count": null,
   "id": "bbd58287",
   "metadata": {},
   "outputs": [],
   "source": [
    "name = \"Patient1\"\n",
    "\n",
    "system_prompt = f\"\"\"\n",
    "You are a doctor answering questions related to medical records for a patient name {name}. \\\n",
    "You are given a summary of the patients's medical records which you can use to answer questions. \\\n",
    "Be professional and engaging. \\\n",
    "If you don't know the answer, say so. Don't make up an answer.\n",
    "\"\"\"\n",
    "system_prompt += f\"\\n\\n## Medical records: {record_text}\"\n",
    "system_prompt += f\"With this context, please chat with the user, always staying in character as a doctor.\""
   ]
  },
  {
   "cell_type": "code",
   "execution_count": null,
   "id": "1ef404d5",
   "metadata": {},
   "outputs": [],
   "source": [
    "load_dotenv(override=True)\n",
    "\n",
    "deepseek_api_key = os.getenv(key=\"DEEPSEEK_API_KEY\")\n",
    "MODEL = \"deepseek_chat\"\n",
    "base_url = \"http://localhost:11434/v1\"\n"
   ]
  }
 ],
 "metadata": {
  "kernelspec": {
   "display_name": ".venv",
   "language": "python",
   "name": "python3"
  },
  "language_info": {
   "codemirror_mode": {
    "name": "ipython",
    "version": 3
   },
   "file_extension": ".py",
   "mimetype": "text/x-python",
   "name": "python",
   "nbconvert_exporter": "python",
   "pygments_lexer": "ipython3",
   "version": "3.12.7"
  }
 },
 "nbformat": 4,
 "nbformat_minor": 5
}
